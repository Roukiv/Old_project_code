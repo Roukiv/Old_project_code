{
 "cells": [
  {
   "cell_type": "markdown",
   "metadata": {},
   "source": [
    "### Reading the data\n",
    "\n"
   ]
  },
  {
   "cell_type": "code",
   "execution_count": 25,
   "metadata": {
    "scrolled": true
   },
   "outputs": [
    {
     "name": "stdout",
     "output_type": "stream",
     "text": [
      "Requirement already up-to-date: scikit-learn in d:\\python anaconda\\lib\\site-packages (0.24.2)\n",
      "Requirement already satisfied, skipping upgrade: joblib>=0.11 in d:\\python anaconda\\lib\\site-packages (from scikit-learn) (0.13.2)\n",
      "Requirement already satisfied, skipping upgrade: threadpoolctl>=2.0.0 in d:\\python anaconda\\lib\\site-packages (from scikit-learn) (2.1.0)\n",
      "Requirement already satisfied, skipping upgrade: numpy>=1.13.3 in d:\\python anaconda\\lib\\site-packages (from scikit-learn) (1.16.4)\n",
      "Requirement already satisfied, skipping upgrade: scipy>=0.19.1 in d:\\python anaconda\\lib\\site-packages (from scikit-learn) (1.2.1)\n"
     ]
    }
   ],
   "source": [
    "! python -m pip install scikit-learn --upgrade"
   ]
  },
  {
   "cell_type": "code",
   "execution_count": 1,
   "metadata": {},
   "outputs": [],
   "source": [
    "import pandas as pd\n",
    "\n",
    "import numpy as np\n",
    "from sklearn.model_selection import train_test_split\n",
    "from sklearn.tree import DecisionTreeRegressor\n",
    "from sklearn.ensemble import BaggingRegressor\n",
    "from sklearn.ensemble import AdaBoostRegressor\n",
    "from sklearn.ensemble import RandomForestRegressor\n",
    "from sklearn.ensemble import GradientBoostingRegressor\n",
    "from sklearn import metrics\n",
    "from sklearn import tree\n",
    "from sklearn.inspection import permutation_importance\n",
    "\n",
    "import matplotlib.pyplot as plt\n",
    "\n",
    "from tabulate import tabulate"
   ]
  },
  {
   "cell_type": "code",
   "execution_count": 2,
   "metadata": {
    "scrolled": false
   },
   "outputs": [],
   "source": [
    "mz_biomass = pd.read_csv(\"mz_biomass.csv\")"
   ]
  },
  {
   "cell_type": "code",
   "execution_count": 3,
   "metadata": {},
   "outputs": [
    {
     "data": {
      "text/html": [
       "<div>\n",
       "<style scoped>\n",
       "    .dataframe tbody tr th:only-of-type {\n",
       "        vertical-align: middle;\n",
       "    }\n",
       "\n",
       "    .dataframe tbody tr th {\n",
       "        vertical-align: top;\n",
       "    }\n",
       "\n",
       "    .dataframe thead th {\n",
       "        text-align: right;\n",
       "    }\n",
       "</style>\n",
       "<table border=\"1\" class=\"dataframe\">\n",
       "  <thead>\n",
       "    <tr style=\"text-align: right;\">\n",
       "      <th></th>\n",
       "      <th>plot_id</th>\n",
       "      <th>agb</th>\n",
       "      <th>hh</th>\n",
       "      <th>hv</th>\n",
       "      <th>b3</th>\n",
       "      <th>b4</th>\n",
       "      <th>b5</th>\n",
       "      <th>b6</th>\n",
       "      <th>b7</th>\n",
       "    </tr>\n",
       "  </thead>\n",
       "  <tbody>\n",
       "    <tr>\n",
       "      <th>count</th>\n",
       "      <td>606.00000</td>\n",
       "      <td>606.000000</td>\n",
       "      <td>606.000000</td>\n",
       "      <td>606.000000</td>\n",
       "      <td>606.000000</td>\n",
       "      <td>606.000000</td>\n",
       "      <td>606.000000</td>\n",
       "      <td>606.000000</td>\n",
       "      <td>606.000000</td>\n",
       "    </tr>\n",
       "    <tr>\n",
       "      <th>mean</th>\n",
       "      <td>303.50000</td>\n",
       "      <td>89.152874</td>\n",
       "      <td>-7.404411</td>\n",
       "      <td>-12.989861</td>\n",
       "      <td>0.054282</td>\n",
       "      <td>0.053498</td>\n",
       "      <td>0.242397</td>\n",
       "      <td>0.201219</td>\n",
       "      <td>0.111524</td>\n",
       "    </tr>\n",
       "    <tr>\n",
       "      <th>std</th>\n",
       "      <td>175.08141</td>\n",
       "      <td>62.354027</td>\n",
       "      <td>1.518922</td>\n",
       "      <td>1.846914</td>\n",
       "      <td>0.011230</td>\n",
       "      <td>0.021925</td>\n",
       "      <td>0.031629</td>\n",
       "      <td>0.041874</td>\n",
       "      <td>0.040780</td>\n",
       "    </tr>\n",
       "    <tr>\n",
       "      <th>min</th>\n",
       "      <td>1.00000</td>\n",
       "      <td>2.433582</td>\n",
       "      <td>-14.994638</td>\n",
       "      <td>-22.139635</td>\n",
       "      <td>0.026963</td>\n",
       "      <td>0.018775</td>\n",
       "      <td>0.125056</td>\n",
       "      <td>0.096325</td>\n",
       "      <td>0.045125</td>\n",
       "    </tr>\n",
       "    <tr>\n",
       "      <th>25%</th>\n",
       "      <td>152.25000</td>\n",
       "      <td>47.311816</td>\n",
       "      <td>-8.311640</td>\n",
       "      <td>-13.975116</td>\n",
       "      <td>0.045903</td>\n",
       "      <td>0.036000</td>\n",
       "      <td>0.221466</td>\n",
       "      <td>0.168911</td>\n",
       "      <td>0.078756</td>\n",
       "    </tr>\n",
       "    <tr>\n",
       "      <th>50%</th>\n",
       "      <td>303.50000</td>\n",
       "      <td>74.747372</td>\n",
       "      <td>-7.293537</td>\n",
       "      <td>-12.791153</td>\n",
       "      <td>0.053056</td>\n",
       "      <td>0.049312</td>\n",
       "      <td>0.237084</td>\n",
       "      <td>0.195538</td>\n",
       "      <td>0.103087</td>\n",
       "    </tr>\n",
       "    <tr>\n",
       "      <th>75%</th>\n",
       "      <td>454.75000</td>\n",
       "      <td>111.813930</td>\n",
       "      <td>-6.391525</td>\n",
       "      <td>-11.672392</td>\n",
       "      <td>0.060255</td>\n",
       "      <td>0.066905</td>\n",
       "      <td>0.260448</td>\n",
       "      <td>0.225519</td>\n",
       "      <td>0.141477</td>\n",
       "    </tr>\n",
       "    <tr>\n",
       "      <th>max</th>\n",
       "      <td>606.00000</td>\n",
       "      <td>444.468299</td>\n",
       "      <td>-3.358704</td>\n",
       "      <td>-8.760588</td>\n",
       "      <td>0.112225</td>\n",
       "      <td>0.148731</td>\n",
       "      <td>0.381375</td>\n",
       "      <td>0.353287</td>\n",
       "      <td>0.253319</td>\n",
       "    </tr>\n",
       "  </tbody>\n",
       "</table>\n",
       "</div>"
      ],
      "text/plain": [
       "         plot_id         agb          hh          hv          b3          b4  \\\n",
       "count  606.00000  606.000000  606.000000  606.000000  606.000000  606.000000   \n",
       "mean   303.50000   89.152874   -7.404411  -12.989861    0.054282    0.053498   \n",
       "std    175.08141   62.354027    1.518922    1.846914    0.011230    0.021925   \n",
       "min      1.00000    2.433582  -14.994638  -22.139635    0.026963    0.018775   \n",
       "25%    152.25000   47.311816   -8.311640  -13.975116    0.045903    0.036000   \n",
       "50%    303.50000   74.747372   -7.293537  -12.791153    0.053056    0.049312   \n",
       "75%    454.75000  111.813930   -6.391525  -11.672392    0.060255    0.066905   \n",
       "max    606.00000  444.468299   -3.358704   -8.760588    0.112225    0.148731   \n",
       "\n",
       "               b5          b6          b7  \n",
       "count  606.000000  606.000000  606.000000  \n",
       "mean     0.242397    0.201219    0.111524  \n",
       "std      0.031629    0.041874    0.040780  \n",
       "min      0.125056    0.096325    0.045125  \n",
       "25%      0.221466    0.168911    0.078756  \n",
       "50%      0.237084    0.195538    0.103087  \n",
       "75%      0.260448    0.225519    0.141477  \n",
       "max      0.381375    0.353287    0.253319  "
      ]
     },
     "execution_count": 3,
     "metadata": {},
     "output_type": "execute_result"
    }
   ],
   "source": [
    "## Check descriptive statistics\n",
    "mz_biomass.describe()"
   ]
  },
  {
   "cell_type": "code",
   "execution_count": 3,
   "metadata": {},
   "outputs": [],
   "source": [
    "y = mz_biomass.agb ## set the response\n",
    "X = mz_biomass[['hh','hv','b3','b4','b5','b6','b7']] ## set the predictors\n",
    "## Split into train and test subsets\n",
    "X_train, X_test, y_train, y_test = train_test_split(X, y, test_size=0.25, random_state=1234)"
   ]
  },
  {
   "cell_type": "markdown",
   "metadata": {},
   "source": [
    "### Fitting regression trees\n"
   ]
  },
  {
   "cell_type": "code",
   "execution_count": 4,
   "metadata": {},
   "outputs": [
    {
     "data": {
      "text/plain": [
       "DecisionTreeRegressor(random_state=1234)"
      ]
     },
     "execution_count": 4,
     "metadata": {},
     "output_type": "execute_result"
    }
   ],
   "source": [
    "## Specifying the full tree (according to defaults)\n",
    "dtr_full = DecisionTreeRegressor(random_state=1234)\n",
    "##\n",
    "## Fitting the full tree\n",
    "dtr_full.fit(X_train, y_train)"
   ]
  },
  {
   "cell_type": "code",
   "execution_count": 5,
   "metadata": {},
   "outputs": [
    {
     "name": "stdout",
     "output_type": "stream",
     "text": [
      "0.0 0.0 0.0\n",
      "79.71301660997709 -11.750867650747683 6216.082126517099\n"
     ]
    }
   ],
   "source": [
    "## Predicting to the train and test subsets\n",
    "y_train_pred_full = dtr_full.predict(X_train)\n",
    "y_test_pred_full  = dtr_full.predict(X_test)\n",
    "##\n",
    "## bias-variance decomposition of the error\n",
    "dtr_full_train_rmse = np.sqrt(metrics.mean_squared_error(y_train, y_train_pred_full))\n",
    "dtr_full_train_bias = np.mean(y_train - y_train_pred_full)\n",
    "dtr_full_train_var  = np.var(y_train - y_train_pred_full)\n",
    "print(dtr_full_train_rmse, dtr_full_train_bias, dtr_full_train_var)\n",
    "dtr_full_test_rmse = np.sqrt(metrics.mean_squared_error(y_test, y_test_pred_full))\n",
    "dtr_full_test_bias = np.mean(y_test - y_test_pred_full)\n",
    "dtr_full_test_var  = np.var(y_test - y_test_pred_full)\n",
    "print(dtr_full_test_rmse, dtr_full_test_bias, dtr_full_test_var)\n",
    "##\n",
    "## Can you comment on the results?\n",
    "## The full tree perfectly fits the data - overfitting\n",
    "## BUT when applied to the test subset, the errors are quite high\n",
    "##\n",
    "## What's the RMSE in relation to the average ASF value in the test subset?\n",
    "av_asf_test = np.mean(y_test)"
   ]
  },
  {
   "cell_type": "code",
   "execution_count": 6,
   "metadata": {},
   "outputs": [],
   "source": [
    "path = dtr_full.cost_complexity_pruning_path(X_train, y_train)\n",
    "alpha = path.ccp_alphas\n"
   ]
  },
  {
   "cell_type": "code",
   "execution_count": 7,
   "metadata": {},
   "outputs": [],
   "source": [
    "var_train,var_test = [],[]\n",
    "rmse_train,rmse_test = [],[]\n",
    "for i in alpha:\n",
    "    dtr = DecisionTreeRegressor(ccp_alpha=i, random_state=1234)\n",
    "    dtr.fit(X_train, y_train)\n",
    "    y_train_pred = dtr.predict(X_train)\n",
    "    y_test_pred  = dtr.predict(X_test)\n",
    "    var_train.append(np.var(y_train - y_train_pred)/1000)\n",
    "    var_test.append(np.var(y_test - y_test_pred)/1000)\n",
    "    \n",
    "    rmse_train.append(np.sqrt(metrics.mean_squared_error(y_train, y_train_pred)))\n",
    "    rmse_test.append(np.sqrt(metrics.mean_squared_error(y_test, y_test_pred)))\n"
   ]
  },
  {
   "cell_type": "code",
   "execution_count": 8,
   "metadata": {
    "scrolled": true
   },
   "outputs": [
    {
     "data": {
      "image/png": "[encoded data removed]",
      "text/plain": [
       "<Figure size 432x288 with 1 Axes>"
      ]
     },
     "metadata": {
      "needs_background": "light"
     },
     "output_type": "display_data"
    }
   ],
   "source": [
    "fig, ax = plt.subplots()\n",
    "ax.set_xlabel(\"alpha\")\n",
    "ax.set_ylabel(\"Variance\")\n",
    "ax.plot(alpha, var_train, label=\"train\")\n",
    "ax.plot(alpha, var_test, label=\"test\")\n",
    "\n",
    "ax.legend()\n",
    "plt.show()"
   ]
  },
  {
   "cell_type": "code",
   "execution_count": 9,
   "metadata": {},
   "outputs": [
    {
     "name": "stdout",
     "output_type": "stream",
     "text": [
      "320.37970157490577\n"
     ]
    }
   ],
   "source": [
    "index_best_model = np.argmin(rmse_test)\n",
    "alpha_best = alpha[index_best_model]\n",
    "print(alpha_best)"
   ]
  },
  {
   "cell_type": "markdown",
   "metadata": {},
   "source": [
    "#### Calculating the bias-variance decomposition of the test error\n"
   ]
  },
  {
   "cell_type": "code",
   "execution_count": 29,
   "metadata": {},
   "outputs": [
    {
     "name": "stdout",
     "output_type": "stream",
     "text": [
      "50.7733 -1.7200 2574.9718\n"
     ]
    }
   ],
   "source": [
    "dtr_alpha = DecisionTreeRegressor(ccp_alpha=alpha_best, random_state=1234)\n",
    "dtr_alpha.fit(X_train, y_train)\n",
    "y_test_pred_alpha = dtr_alpha.predict(X_test)\n",
    "dtr_alpha_rmse = \"{:.4f}\".format(np.sqrt(metrics.mean_squared_error(y_test, y_test_pred_alpha)))\n",
    "dtr_alpha_bias = \"{:.4f}\".format(np.mean(y_test - y_test_pred_alpha))\n",
    "dtr_alpha_var  = \"{:.4f}\".format(np.var(y_test - y_test_pred_alpha))\n",
    "print(dtr_alpha_rmse, dtr_alpha_bias, dtr_alpha_var)"
   ]
  },
  {
   "cell_type": "code",
   "execution_count": 28,
   "metadata": {},
   "outputs": [
    {
     "name": "stdout",
     "output_type": "stream",
     "text": [
      "79.7130 -11.7509 6216.0821\n"
     ]
    }
   ],
   "source": [
    "dtr_full_rmse = \"{:.4f}\".format(np.sqrt(metrics.mean_squared_error(y_test, y_test_pred_full)))\n",
    "dtr_full_bias = \"{:.4f}\".format(np.mean(y_test - y_test_pred_full))\n",
    "dtr_full_var  = \"{:.4f}\".format(np.var(y_test - y_test_pred_full))\n",
    "print(dtr_full_rmse, dtr_full_bias, dtr_full_var)"
   ]
  },
  {
   "cell_type": "markdown",
   "metadata": {},
   "source": [
    "### Fitting bagging models"
   ]
  },
  {
   "cell_type": "code",
   "execution_count": 31,
   "metadata": {},
   "outputs": [
    {
     "name": "stdout",
     "output_type": "stream",
     "text": [
      "100 54.2767 -5.9901 2910.0822\n",
      "200 54.1046 -5.9607 2891.7720\n",
      "300 54.1037 -6.0966 2890.0445\n",
      "400 53.7595 -5.9511 2854.6704\n",
      "500 53.5484 -5.9897 2831.5510\n",
      "600 53.4606 -5.9254 2822.9303\n",
      "700 53.6533 -5.9826 2842.8839\n",
      "800 53.6821 -6.0371 2845.3238\n",
      "900 53.6511 -5.9445 2843.1025\n",
      "1000 53.7111 -5.9068 2849.9948\n"
     ]
    }
   ],
   "source": [
    "esti = [100,200,300,400,500,600,700,800,900,1000]\n",
    "for i in esti:\n",
    "    bagg_0 = BaggingRegressor(DecisionTreeRegressor(), n_estimators=i, random_state=1234)\n",
    "    bagg_0.fit(X_train, y_train)\n",
    "    bagg_0.pred = bagg_0.predict(X_test)\n",
    "    bagg_0_rmse = \"{:.4f}\".format(np.sqrt(metrics.mean_squared_error(y_test, bagg_0.pred)))\n",
    "    bagg_0_bias = \"{:.4f}\".format(np.mean(y_test - bagg_0.pred))\n",
    "    bagg_0_var  = \"{:.4f}\".format(np.var(y_test - bagg_0.pred))\n",
    "    print(i,bagg_0_rmse, bagg_0_bias, bagg_0_var)   \n",
    "# 600 53.4606 -5.9254 2822.9303 with lower rmse,bias,var\n",
    "bagg_0 = BaggingRegressor(DecisionTreeRegressor(), n_estimators=600, random_state=1234)\n",
    "bagg_0.fit(X_train, y_train)\n",
    "bagg_0.pred = bagg_0.predict(X_test)\n",
    "bagg_0_rmse = \"{:.4f}\".format(np.sqrt(metrics.mean_squared_error(y_test, bagg_0.pred)))\n",
    "bagg_0_bias = \"{:.4f}\".format(np.mean(y_test - bagg_0.pred))\n",
    "bagg_0_var  = \"{:.4f}\".format(np.var(y_test - bagg_0.pred))\n"
   ]
  },
  {
   "cell_type": "markdown",
   "metadata": {},
   "source": [
    "### Fitting boosting models\n"
   ]
  },
  {
   "cell_type": "code",
   "execution_count": 12,
   "metadata": {},
   "outputs": [],
   "source": [
    "n_est0,l_rate0,rmse0,bias0,var0 = [],[],[],[],[]\n",
    "esti = [100,200,300,400,500,600,700,800,900,1000]\n",
    "lr = [0.001,0.005,0.010,0.050,0.100]\n",
    "for i in esti:\n",
    "    for j in lr:\n",
    "        boost_1 = AdaBoostRegressor(DecisionTreeRegressor(), n_estimators=i, learning_rate=j, random_state=1234)\n",
    "        boost_1.fit(X_train, y_train)\n",
    "        boost_1.pred = boost_1.predict(X_test)\n",
    "        boost_1_rmse = \"{:.4f}\".format(np.sqrt(metrics.mean_squared_error(y_test, boost_1.pred)))\n",
    "        boost_1_bias = \"{:.4f}\".format(np.mean(y_test - boost_1.pred))\n",
    "        boost_1_var  = \"{:.4f}\".format(np.var(y_test - boost_1.pred))\n",
    "\n",
    "        n_est0.append(i)\n",
    "        l_rate0.append(j)\n",
    "        rmse0.append(boost_1_rmse)\n",
    "        bias0.append(boost_1_bias)\n",
    "        var0.append(boost_1_var)\n",
    "        \n"
   ]
  },
  {
   "cell_type": "code",
   "execution_count": 13,
   "metadata": {},
   "outputs": [
    {
     "name": "stdout",
     "output_type": "stream",
     "text": [
      "    n_est  l_rate     rmse     bias        var\n",
      "19    400   0.100  54.1026   0.2924  2927.0090\n",
      "24    500   0.100  54.2658  -0.3444  2944.6559\n",
      "9     200   0.100  54.3188   0.7251  2950.0081\n",
      "29    600   0.100  54.3567  -0.4374  2954.4621\n",
      "4     100   0.100  54.4268   1.0461  2961.1829\n",
      "44    900   0.100  54.4445   0.1382  2964.1898\n",
      "14    300   0.100  54.4999   0.6632  2969.8045\n",
      "16    400   0.005  54.5037   1.9781  2966.7439\n",
      "21    500   0.005  54.5415   1.6964  2971.8966\n",
      "26    600   0.005  54.5497   1.6274  2973.0215\n",
      "11    300   0.005  54.5578   1.9047  2972.9293\n",
      "39    800   0.100  54.6046  -0.1768  2981.6284\n",
      "20    500   0.001  54.6567   2.3885  2981.6479\n",
      "6     200   0.005  54.7304   2.0578  2991.1873\n",
      "25    600   0.001  54.8286   2.3998  3000.4116\n",
      "49   1000   0.100  54.8519   0.2341  3008.6801\n",
      "34    700   0.100  54.8704  -0.5086  3010.4968\n",
      "1     100   0.005  54.9103   2.5605  3008.5801\n",
      "31    700   0.005  54.9153   1.5832  3013.1806\n",
      "10    300   0.001  54.9347   2.9327  3009.2204\n",
      "33    700   0.050  54.9376   0.3643  3018.0100\n",
      "36    800   0.005  54.9470   1.5619  3016.7279\n",
      "2     100   0.010  54.9524   2.4819  3013.6103\n",
      "48   1000   0.050  54.9548   0.1946  3019.9915\n",
      "46   1000   0.005  54.9972   1.4259  3022.6546\n",
      "15    400   0.001  55.0066   2.8888  3017.3807\n",
      "28    600   0.050  55.0693   0.2056  3032.5843\n",
      "5     200   0.001  55.0796   2.7790  3026.0444\n",
      "23    500   0.050  55.0816   0.1647  3033.9586\n",
      "35    800   0.001  55.1291   2.5770  3032.5763\n",
      "43    900   0.050  55.1321   0.3186  3039.4436\n",
      "38    800   0.050  55.1404   0.2172  3040.4134\n",
      "3     100   0.050  55.1535   1.5397  3039.5347\n",
      "41    900   0.005  55.1677   1.4915  3041.2535\n",
      "7     200   0.010  55.1691   2.0021  3039.6171\n",
      "0     100   0.001  55.2514   2.9806  3043.8365\n",
      "40    900   0.001  55.3027   2.3005  3053.0917\n",
      "45   1000   0.001  55.3425   2.2859  3057.5700\n",
      "8     200   0.050  55.3885   0.3825  3067.7416\n",
      "18    400   0.050  55.4211   0.4693  3071.2779\n",
      "13    300   0.050  55.5407   0.8569  3084.0303\n",
      "42    900   0.010  55.5893   0.9655  3089.2337\n",
      "37    800   0.010  55.5895   1.1171  3088.9429\n",
      "30    700   0.001  55.5932   2.3227  3085.2086\n",
      "47   1000   0.010  55.6174   0.8198  3092.6230\n",
      "32    700   0.010  55.6318   1.1237  3093.6351\n",
      "27    600   0.010  55.7678   1.3873  3108.1205\n",
      "12    300   0.010  55.9168   1.9428  3122.9145\n",
      "17    400   0.010  55.9378   1.8118  3125.7573\n",
      "22    500   0.010  56.2018   1.1350  3157.3527\n",
      "\n",
      "The best model is:\n",
      " n_est           400\n",
      "l_rate          0.1\n",
      "rmse        54.1026\n",
      "bias         0.2924\n",
      "var       2927.0090\n",
      "Name: 19, dtype: object\n"
     ]
    }
   ],
   "source": [
    "dict_error = {'n_est': n_est0, 'l_rate': l_rate0, 'rmse': rmse0, 'bias': bias0,'var': var0}\n",
    "table_error = pd.DataFrame(data = dict_error)\n",
    "\n",
    "table_error_sort = table_error.sort_values(by=['rmse'])\n",
    "print(table_error_sort)\n",
    "\n",
    "#table_error_sort = table_error.sort_values(by=['bias'])\n",
    "#print(table_error_sort)\n",
    "#table_error_sort = table_error.sort_values(by=['var'])\n",
    "#print(table_error_sort)\n",
    "\n",
    "print(\"\\nThe best model is:\\n\", table_error_sort.iloc[0])\n",
    "# with best rmse and var, bias : 11th place out of 50"
   ]
  },
  {
   "cell_type": "markdown",
   "metadata": {},
   "source": [
    "### Fitting random forests models"
   ]
  },
  {
   "cell_type": "code",
   "execution_count": 14,
   "metadata": {},
   "outputs": [],
   "source": [
    "n_est,max_feat,rmse,bias,var = [],[],[],[],[]\n",
    "\n",
    "for i in [200,400,600,800,1000]:  \n",
    "    for j in [1,2,3,4,5,6]:  \n",
    "        rf = RandomForestRegressor(n_estimators=i, max_features=j, random_state=1234)\n",
    "        rf.fit(X_train, y_train)\n",
    "        rf.pred = rf.predict(X_test)\n",
    "        n_est.append(i)\n",
    "        max_feat.append(j)\n",
    "        rmse.append(\"{:.4f}\".format(np.sqrt(metrics.mean_squared_error(y_test, rf.pred))))\n",
    "        bias.append(\"{:.4f}\".format(np.mean(y_test - rf.pred)))\n",
    "        var.append(\"{:.4f}\".format(np.var(y_test - rf.pred)))"
   ]
  },
  {
   "cell_type": "code",
   "execution_count": 15,
   "metadata": {},
   "outputs": [
    {
     "name": "stdout",
     "output_type": "stream",
     "text": [
      "    n_est  max_feat     rmse     bias        var\n",
      "0     200         1  51.0318  -5.6126  2572.7441\n",
      "1     200         2  53.0286  -5.7256  2779.2529\n",
      "2     200         3  53.4344  -6.4180  2814.0463\n",
      "3     200         4  53.3200  -5.8683  2808.5819\n",
      "4     200         5  53.6515  -6.0236  2842.1959\n",
      "5     200         6  54.0560  -6.4644  2880.2595\n",
      "6     400         1  51.4783  -5.5093  2619.6638\n",
      "7     400         2  52.5982  -5.8142  2732.7683\n",
      "8     400         3  53.4048  -6.1376  2814.3989\n",
      "9     400         4  53.4107  -6.1243  2815.1946\n",
      "10    400         5  53.5258  -6.1012  2827.7866\n",
      "11    400         6  53.5555  -6.2103  2829.6197\n",
      "12    600         1  51.5546  -5.3655  2629.0902\n",
      "13    600         2  52.3270  -5.7197  2705.3964\n",
      "14    600         3  53.0699  -5.8870  2781.7561\n",
      "15    600         4  53.0915  -5.8510  2784.4766\n",
      "16    600         5  53.3295  -5.8683  2809.6028\n",
      "17    600         6  53.4318  -6.1412  2817.2378\n",
      "18    800         1  51.5330  -5.3871  2626.6294\n",
      "19    800         2  52.3394  -5.7974  2705.8050\n",
      "20    800         3  52.9459  -5.8283  2769.2957\n",
      "21    800         4  53.0065  -5.9842  2773.8810\n",
      "22    800         5  53.3403  -5.8875  2810.5221\n",
      "23    800         6  53.4319  -6.0569  2818.2821\n",
      "24   1000         1  51.7238  -5.3782  2646.4229\n",
      "25   1000         2  52.5214  -5.7965  2724.9017\n",
      "26   1000         3  52.8348  -5.8251  2757.5827\n",
      "27   1000         4  53.0385  -6.0094  2776.9680\n",
      "28   1000         5  53.3809  -5.7964  2815.9225\n",
      "29   1000         6  53.4566  -5.9703  2821.9676\n",
      "    n_est  max_feat     rmse     bias        var\n",
      "0     200         1  51.0318  -5.6126  2572.7441\n",
      "6     400         1  51.4783  -5.5093  2619.6638\n",
      "18    800         1  51.5330  -5.3871  2626.6294\n",
      "12    600         1  51.5546  -5.3655  2629.0902\n",
      "24   1000         1  51.7238  -5.3782  2646.4229\n",
      "13    600         2  52.3270  -5.7197  2705.3964\n",
      "19    800         2  52.3394  -5.7974  2705.8050\n",
      "25   1000         2  52.5214  -5.7965  2724.9017\n",
      "7     400         2  52.5982  -5.8142  2732.7683\n",
      "26   1000         3  52.8348  -5.8251  2757.5827\n",
      "20    800         3  52.9459  -5.8283  2769.2957\n",
      "21    800         4  53.0065  -5.9842  2773.8810\n",
      "1     200         2  53.0286  -5.7256  2779.2529\n",
      "27   1000         4  53.0385  -6.0094  2776.9680\n",
      "14    600         3  53.0699  -5.8870  2781.7561\n",
      "15    600         4  53.0915  -5.8510  2784.4766\n",
      "3     200         4  53.3200  -5.8683  2808.5819\n",
      "16    600         5  53.3295  -5.8683  2809.6028\n",
      "22    800         5  53.3403  -5.8875  2810.5221\n",
      "28   1000         5  53.3809  -5.7964  2815.9225\n",
      "8     400         3  53.4048  -6.1376  2814.3989\n",
      "9     400         4  53.4107  -6.1243  2815.1946\n",
      "17    600         6  53.4318  -6.1412  2817.2378\n",
      "23    800         6  53.4319  -6.0569  2818.2821\n",
      "2     200         3  53.4344  -6.4180  2814.0463\n",
      "29   1000         6  53.4566  -5.9703  2821.9676\n",
      "10    400         5  53.5258  -6.1012  2827.7866\n",
      "11    400         6  53.5555  -6.2103  2829.6197\n",
      "4     200         5  53.6515  -6.0236  2842.1959\n",
      "5     200         6  54.0560  -6.4644  2880.2595\n",
      "    n_est  max_feat     rmse     bias        var\n",
      "12    600         1  51.5546  -5.3655  2629.0902\n",
      "24   1000         1  51.7238  -5.3782  2646.4229\n",
      "18    800         1  51.5330  -5.3871  2626.6294\n",
      "6     400         1  51.4783  -5.5093  2619.6638\n",
      "0     200         1  51.0318  -5.6126  2572.7441\n",
      "13    600         2  52.3270  -5.7197  2705.3964\n",
      "1     200         2  53.0286  -5.7256  2779.2529\n",
      "28   1000         5  53.3809  -5.7964  2815.9225\n",
      "25   1000         2  52.5214  -5.7965  2724.9017\n",
      "19    800         2  52.3394  -5.7974  2705.8050\n",
      "7     400         2  52.5982  -5.8142  2732.7683\n",
      "26   1000         3  52.8348  -5.8251  2757.5827\n",
      "20    800         3  52.9459  -5.8283  2769.2957\n",
      "15    600         4  53.0915  -5.8510  2784.4766\n",
      "3     200         4  53.3200  -5.8683  2808.5819\n",
      "16    600         5  53.3295  -5.8683  2809.6028\n",
      "14    600         3  53.0699  -5.8870  2781.7561\n",
      "22    800         5  53.3403  -5.8875  2810.5221\n",
      "29   1000         6  53.4566  -5.9703  2821.9676\n",
      "21    800         4  53.0065  -5.9842  2773.8810\n",
      "27   1000         4  53.0385  -6.0094  2776.9680\n",
      "4     200         5  53.6515  -6.0236  2842.1959\n",
      "23    800         6  53.4319  -6.0569  2818.2821\n",
      "10    400         5  53.5258  -6.1012  2827.7866\n",
      "9     400         4  53.4107  -6.1243  2815.1946\n",
      "8     400         3  53.4048  -6.1376  2814.3989\n",
      "17    600         6  53.4318  -6.1412  2817.2378\n",
      "11    400         6  53.5555  -6.2103  2829.6197\n",
      "2     200         3  53.4344  -6.4180  2814.0463\n",
      "5     200         6  54.0560  -6.4644  2880.2595\n",
      "    n_est  max_feat     rmse     bias        var\n",
      "0     200         1  51.0318  -5.6126  2572.7441\n",
      "6     400         1  51.4783  -5.5093  2619.6638\n",
      "18    800         1  51.5330  -5.3871  2626.6294\n",
      "12    600         1  51.5546  -5.3655  2629.0902\n",
      "24   1000         1  51.7238  -5.3782  2646.4229\n",
      "13    600         2  52.3270  -5.7197  2705.3964\n",
      "19    800         2  52.3394  -5.7974  2705.8050\n",
      "25   1000         2  52.5214  -5.7965  2724.9017\n",
      "7     400         2  52.5982  -5.8142  2732.7683\n",
      "26   1000         3  52.8348  -5.8251  2757.5827\n",
      "20    800         3  52.9459  -5.8283  2769.2957\n",
      "21    800         4  53.0065  -5.9842  2773.8810\n",
      "27   1000         4  53.0385  -6.0094  2776.9680\n",
      "1     200         2  53.0286  -5.7256  2779.2529\n",
      "14    600         3  53.0699  -5.8870  2781.7561\n",
      "15    600         4  53.0915  -5.8510  2784.4766\n",
      "3     200         4  53.3200  -5.8683  2808.5819\n",
      "16    600         5  53.3295  -5.8683  2809.6028\n",
      "22    800         5  53.3403  -5.8875  2810.5221\n",
      "2     200         3  53.4344  -6.4180  2814.0463\n",
      "8     400         3  53.4048  -6.1376  2814.3989\n",
      "9     400         4  53.4107  -6.1243  2815.1946\n",
      "28   1000         5  53.3809  -5.7964  2815.9225\n",
      "17    600         6  53.4318  -6.1412  2817.2378\n",
      "23    800         6  53.4319  -6.0569  2818.2821\n",
      "29   1000         6  53.4566  -5.9703  2821.9676\n",
      "10    400         5  53.5258  -6.1012  2827.7866\n",
      "11    400         6  53.5555  -6.2103  2829.6197\n",
      "4     200         5  53.6515  -6.0236  2842.1959\n",
      "5     200         6  54.0560  -6.4644  2880.2595\n",
      "\n",
      "The best model is:\n",
      " n_est             200\n",
      "max_feat            1\n",
      "rmse          51.0318\n",
      "bias          -5.6126\n",
      "var         2572.7441\n",
      "Name: 0, dtype: object\n"
     ]
    }
   ],
   "source": [
    "dict_error = {'n_est': n_est, 'max_feat': max_feat, 'rmse': rmse, 'bias': bias,'var': var}\n",
    "\n",
    "table_error = pd.DataFrame(data = dict_error)\n",
    "print(table_error)\n",
    "\n",
    "table_error_sort = table_error.sort_values(by=['rmse'])\n",
    "print(table_error_sort)\n",
    "table_error_sort = table_error.sort_values(by=['bias'])\n",
    "print(table_error_sort)\n",
    "table_error_sort = table_error.sort_values(by=['var'])\n",
    "print(table_error_sort)\n",
    "\n",
    "print(\"\\nThe best model is:\\n\", table_error_sort.iloc[0])\n",
    "# with best rmse and var, bias : 5th place out of 30"
   ]
  },
  {
   "cell_type": "code",
   "execution_count": 16,
   "metadata": {},
   "outputs": [],
   "source": [
    "## Specify, fit and predict with the best Random Forests model\n",
    "rf_best = RandomForestRegressor(n_estimators=table_error_sort.n_est[0], \n",
    "                                max_features=table_error_sort.max_feat[0], \n",
    "                                random_state=1234)\n",
    "rf_best.fit(X_train, y_train)\n",
    "rf_best.pred = rf_best.predict(X_test)"
   ]
  },
  {
   "cell_type": "code",
   "execution_count": 17,
   "metadata": {},
   "outputs": [
    {
     "name": "stdout",
     "output_type": "stream",
     "text": [
      "rmse, bias, variance\n",
      " 51.0318 -5.6126 2572.7441\n"
     ]
    }
   ],
   "source": [
    "## Verify the rmse, bias and variance we got above can be replicated\n",
    "rf_best_rmse = \"{:.4f}\".format(np.sqrt(metrics.mean_squared_error(y_test, rf_best.pred)))\n",
    "rf_best_bias = \"{:.4f}\".format(np.mean(y_test - rf_best.pred))\n",
    "rf_best_var  = \"{:.4f}\".format(np.var(y_test - rf_best.pred))\n",
    "print('rmse, bias, variance\\n', rf_best_rmse, rf_best_bias, rf_best_var)"
   ]
  },
  {
   "cell_type": "code",
   "execution_count": 33,
   "metadata": {},
   "outputs": [
    {
     "data": {
      "image/png": "[encoded data removed]",
      "text/plain": [
       "<Figure size 432x288 with 1 Axes>"
      ]
     },
     "metadata": {
      "needs_background": "light"
     },
     "output_type": "display_data"
    }
   ],
   "source": [
    "## Plotting the observed vs predicted age of secondary forests\n",
    "plt.scatter(y_test, rf_best.pred, s=60, edgecolor='black', c='red')\n",
    "plt.plot(y_test, y_test, c='blue', label='y=x')\n",
    "plt.title(\"random forests model\")\n",
    "plt.xlabel(\"observed aboveground biomass\")\n",
    "plt.ylabel(\"predicted aboveground biomass\")\n",
    "plt.legend()\n",
    "plt.show()"
   ]
  },
  {
   "cell_type": "markdown",
   "metadata": {},
   "source": [
    "### Fitting gradient boosting models"
   ]
  },
  {
   "cell_type": "code",
   "execution_count": 19,
   "metadata": {},
   "outputs": [],
   "source": [
    "n_est,max_feat,lr_rate,max_dp,rmse,bias,var = [],[],[],[],[],[],[]\n",
    "for i in [200, 400, 600, 800, 1000]:  ## list with the number of estimators to be tested\n",
    "    for j in [1, 2, 3, 4, 5, 6]:  ## list with the number of predictors to be tested when splitting a node\n",
    "        for k in [0.001, 0.005, 0.01, 0.05, 0.1]: ## list with the learning rates\n",
    "            for l in [3, 5, 7, 9]: ## list of trees maximum depth\n",
    "                gb = GradientBoostingRegressor(n_estimators=i, \n",
    "                                               max_features=j, \n",
    "                                               learning_rate=k,\n",
    "                                               max_depth=l,\n",
    "                                               random_state=1234)\n",
    "                gb.fit(X_train, y_train)\n",
    "                gb.pred = gb.predict(X_test)\n",
    "                n_est.append(i)\n",
    "                max_feat.append(j)\n",
    "                lr_rate.append(k)\n",
    "                max_dp.append(l)\n",
    "                rmse.append(\"{:.4f}\".format(np.sqrt(metrics.mean_squared_error(y_test, gb.pred))))\n",
    "                bias.append(\"{:.4f}\".format(np.mean(y_test - gb.pred)))\n",
    "                var.append(\"{:.4f}\".format(np.var(y_test - gb.pred)))"
   ]
  },
  {
   "cell_type": "code",
   "execution_count": 20,
   "metadata": {},
   "outputs": [
    {
     "name": "stdout",
     "output_type": "stream",
     "text": [
      "     n_est  max_feat  lr_rate  max_dp     rmse     bias        var\n",
      "0      200         1    0.001       3  58.9031  -1.0575  3468.4605\n",
      "81     200         5    0.001       5  58.3546  -1.0606  3404.1287\n",
      "100    200         6    0.001       3  58.2305  -1.1017  3389.5801\n",
      "20     200         2    0.001       3  58.4327  -1.1249  3413.1155\n",
      "40     200         3    0.001       3  58.2607  -1.1467  3392.9966\n",
      "102    200         6    0.001       7  58.5533  -1.1488  3427.1682\n",
      "80     200         5    0.001       3  58.2124  -1.1498  3387.3610\n",
      "101    200         6    0.001       5  58.2632  -1.1563  3393.2612\n",
      "82     200         5    0.001       7  58.5626  -1.1590  3428.2395\n",
      "41     200         3    0.001       5  58.2979  -1.1773  3397.2643\n",
      "61     200         4    0.001       5  58.2118  -1.2041  3387.1689\n",
      "60     200         4    0.001       3  58.1973  -1.2045  3385.4773\n",
      "21     200         2    0.001       5  58.1826  -1.2064  3383.7546\n",
      "1      200         1    0.001       5  58.3691  -1.2242  3405.4544\n",
      "2      200         1    0.001       7  58.2119  -1.3133  3386.8948\n",
      "3      200         1    0.001       9  58.3603  -1.3500  3404.1061\n",
      "62     200         4    0.001       7  58.3797  -1.3620  3406.3390\n",
      "63     200         4    0.001       9  58.3196  -1.3622  3399.3145\n",
      "22     200         2    0.001       7  58.2698  -1.3666  3393.5063\n",
      "42     200         3    0.001       7  58.2386  -1.3682  3389.8614\n",
      "83     200         5    0.001       9  58.3624  -1.3851  3404.2519\n",
      "222    400         6    0.001       7  55.8871  -1.4266  3121.3305\n",
      "43     200         3    0.001       9  58.3121  -1.4344  3398.2455\n",
      "23     200         2    0.001       9  58.1612  -1.4795  3380.5420\n",
      "201    400         5    0.001       5  55.2173  -1.4826  3046.7497\n",
      "342    600         6    0.001       7  54.3789  -1.5045  2954.8040\n",
      "220    400         6    0.001       3  54.9471  -1.5312  3016.8446\n",
      "120    400         1    0.001       3  55.7669  -1.5474  3107.5535\n",
      "200    400         5    0.001       3  54.8658  -1.5778  3007.7686\n",
      "221    400         6    0.001       5  55.2407  -1.5873  3049.0144\n",
      "..     ...       ...      ...     ...      ...      ...        ...\n",
      "198    400         4    0.100       7  56.9177  -6.5792  3196.3331\n",
      "318    600         4    0.100       7  56.9180  -6.5792  3196.3779\n",
      "78     200         4    0.100       7  56.8921  -6.5864  3193.3331\n",
      "292    600         3    0.050       3  56.9786  -6.6703  3202.0697\n",
      "272    600         2    0.050       3  56.4179  -6.7743  3137.0831\n",
      "276    600         2    0.100       3  58.7982  -6.7779  3411.2910\n",
      "153    400         2    0.050       5  55.0700  -6.7821  2986.7125\n",
      "196    400         4    0.100       3  56.7845  -6.8236  3177.9163\n",
      "37     200         2    0.100       5  56.1232  -6.8435  3102.9794\n",
      "397    800         2    0.100       5  56.4126  -6.8598  3135.3274\n",
      "517   1000         2    0.100       5  56.4130  -6.8599  3135.3647\n",
      "277    600         2    0.100       5  56.4090  -6.8605  3134.9145\n",
      "157    400         2    0.100       5  56.3791  -6.8624  3131.5105\n",
      "273    600         2    0.050       5  55.2419  -6.8701  3004.4719\n",
      "393    800         2    0.050       5  55.3264  -6.9009  3013.3923\n",
      "513   1000         2    0.050       5  55.3543  -6.9202  3016.2122\n",
      "516   1000         2    0.100       3  59.2034  -6.9450  3456.8034\n",
      "396    800         2    0.100       3  59.1536  -6.9453  3450.9111\n",
      "412    800         3    0.050       3  57.3329  -7.0818  3236.9036\n",
      "316    600         4    0.100       3  57.7849  -7.1469  3288.0126\n",
      "178    400         3    0.100       7  57.6194  -7.1929  3268.2520\n",
      "298    600         3    0.100       7  57.6195  -7.1930  3268.2645\n",
      "538   1000         3    0.100       7  57.6195  -7.1930  3268.2650\n",
      "418    800         3    0.100       7  57.6195  -7.1930  3268.2650\n",
      "58     200         3    0.100       7  57.6058  -7.1997  3266.5960\n",
      "532   1000         3    0.050       3  57.8330  -7.2010  3292.7965\n",
      "436    800         4    0.100       3  58.1544  -7.2336  3329.6128\n",
      "392    800         2    0.050       3  56.9335  -7.2544  3188.7999\n",
      "556   1000         4    0.100       3  58.2362  -7.2904  3338.3036\n",
      "512   1000         2    0.050       3  57.3101  -7.4024  3229.6485\n",
      "\n",
      "[600 rows x 7 columns]\n"
     ]
    }
   ],
   "source": [
    "dict_error = {'n_est': n_est, 'max_feat': max_feat, 'lr_rate': lr_rate, 'max_dp': max_dp, 'rmse': rmse, 'bias': bias,'var': var}\n",
    "table_error = pd.DataFrame(data = dict_error)\n",
    "table_error_sort = table_error.sort_values(by=['bias'])\n",
    "print(table_error_sort)\n",
    "#lowest rmse, var, kind of low bias"
   ]
  },
  {
   "cell_type": "code",
   "execution_count": 21,
   "metadata": {},
   "outputs": [
    {
     "name": "stdout",
     "output_type": "stream",
     "text": [
      "     n_est  max_feat  lr_rate  max_dp     rmse     bias        var\n",
      "28     200         2    0.010       3  49.8824  -3.8314  2473.5776\n",
      "124    400         1    0.005       3  49.9346  -3.9118  2478.1601\n",
      "8      200         1    0.010       3  50.0025  -3.8406  2485.5038\n",
      "144    400         2    0.005       3  50.1616  -3.9676  2500.4439\n",
      "68     200         4    0.010       3  50.2894  -3.6573  2515.6482\n",
      "48     200         3    0.010       3  50.3412  -3.9864  2518.3502\n",
      "9      200         1    0.010       5  50.4463  -4.0932  2528.0789\n",
      "184    400         4    0.005       3  50.4555  -3.8252  2531.1247\n",
      "224    400         6    0.005       3  50.4563  -3.6062  2532.8354\n",
      "520   1000         3    0.001       3  50.4116  -2.6695  2534.1993\n",
      "108    200         6    0.010       3  50.4774  -3.5420  2535.4173\n",
      "24     200         2    0.005       3  50.4492  -2.7541  2537.5386\n",
      "64     200         4    0.005       3  50.4396  -2.5706  2537.5408\n",
      "540   1000         4    0.001       3  50.4551  -2.6528  2538.6790\n",
      "44     200         3    0.005       3  50.4844  -2.4838  2542.5011\n",
      "500   1000         2    0.001       3  50.5455  -2.7819  2547.1097\n",
      "204    400         5    0.005       3  50.6206  -3.8723  2547.4466\n",
      "560   1000         5    0.001       3  50.5420  -2.5213  2548.1357\n",
      "244    600         1    0.005       3  50.6771  -4.4167  2548.6650\n",
      "88     200         5    0.010       3  50.6295  -3.8246  2548.7165\n",
      "84     200         5    0.005       3  50.5517  -2.5383  2549.0315\n",
      "125    400         1    0.005       5  50.7092  -4.3595  2552.4180\n",
      "164    400         3    0.005       3  50.6798  -3.8597  2553.5450\n",
      "126    400         1    0.005       7  50.8033  -4.2826  2562.6311\n",
      "580   1000         6    0.001       3  50.7019  -2.4339  2564.7547\n",
      "104    200         6    0.005       3  50.7353  -2.3514  2568.5371\n",
      "481   1000         1    0.001       5  50.7788  -2.9814  2569.5987\n",
      "5      200         1    0.005       5  50.8891  -3.1122  2580.0185\n",
      "10     200         1    0.010       7  51.0386  -4.4925  2584.7576\n",
      "482   1000         1    0.001       7  50.9798  -3.3617  2587.6382\n",
      "..     ...       ...      ...     ...      ...      ...        ...\n",
      "61     200         4    0.001       5  58.2118  -1.2041  3387.1689\n",
      "80     200         5    0.001       3  58.2124  -1.1498  3387.3610\n",
      "100    200         6    0.001       3  58.2305  -1.1017  3389.5801\n",
      "42     200         3    0.001       7  58.2386  -1.3682  3389.8614\n",
      "96     200         5    0.100       3  58.5391  -5.8870  3392.1651\n",
      "40     200         3    0.001       3  58.2607  -1.1467  3392.9966\n",
      "101    200         6    0.001       5  58.2632  -1.1563  3393.2612\n",
      "22     200         2    0.001       7  58.2698  -1.3666  3393.5063\n",
      "41     200         3    0.001       5  58.2979  -1.1773  3397.2643\n",
      "43     200         3    0.001       9  58.3121  -1.4344  3398.2455\n",
      "63     200         4    0.001       9  58.3196  -1.3622  3399.3145\n",
      "352    600         6    0.050       3  58.6544  -6.2118  3401.7511\n",
      "3      200         1    0.001       9  58.3603  -1.3500  3404.1061\n",
      "81     200         5    0.001       5  58.3546  -1.0606  3404.1287\n",
      "83     200         5    0.001       9  58.3624  -1.3851  3404.2519\n",
      "1      200         1    0.001       5  58.3691  -1.2242  3405.4544\n",
      "62     200         4    0.001       7  58.3797  -1.3620  3406.3390\n",
      "276    600         2    0.100       3  58.7982  -6.7779  3411.2910\n",
      "20     200         2    0.001       3  58.4327  -1.1249  3413.1155\n",
      "102    200         6    0.001       7  58.5533  -1.1488  3427.1682\n",
      "82     200         5    0.001       7  58.5626  -1.1590  3428.2395\n",
      "472    800         6    0.050       3  59.0135  -6.1638  3444.6053\n",
      "396    800         2    0.100       3  59.1536  -6.9453  3450.9111\n",
      "516   1000         2    0.100       3  59.2034  -6.9450  3456.8034\n",
      "0      200         1    0.001       3  58.9031  -1.0575  3468.4605\n",
      "592   1000         6    0.050       3  59.3852  -6.2922  3487.0132\n",
      "216    400         5    0.100       3  59.7075  -6.1576  3527.0671\n",
      "336    600         5    0.100       3  59.9119  -6.2242  3550.6887\n",
      "456    800         5    0.100       3  60.2138  -6.3696  3585.1251\n",
      "576   1000         5    0.100       3  60.3341  -6.4600  3598.4756\n",
      "\n",
      "[600 rows x 7 columns]\n"
     ]
    }
   ],
   "source": [
    "table_error_sort = table_error.sort_values(by=['var'])\n",
    "print(table_error_sort)"
   ]
  },
  {
   "cell_type": "code",
   "execution_count": 22,
   "metadata": {},
   "outputs": [
    {
     "name": "stdout",
     "output_type": "stream",
     "text": [
      "     n_est  max_feat  lr_rate  max_dp     rmse     bias        var\n",
      "28     200         2    0.010       3  49.8824  -3.8314  2473.5776\n",
      "124    400         1    0.005       3  49.9346  -3.9118  2478.1601\n",
      "8      200         1    0.010       3  50.0025  -3.8406  2485.5038\n",
      "144    400         2    0.005       3  50.1616  -3.9676  2500.4439\n",
      "68     200         4    0.010       3  50.2894  -3.6573  2515.6482\n",
      "48     200         3    0.010       3  50.3412  -3.9864  2518.3502\n",
      "520   1000         3    0.001       3  50.4116  -2.6695  2534.1993\n",
      "64     200         4    0.005       3  50.4396  -2.5706  2537.5408\n",
      "9      200         1    0.010       5  50.4463  -4.0932  2528.0789\n",
      "24     200         2    0.005       3  50.4492  -2.7541  2537.5386\n",
      "540   1000         4    0.001       3  50.4551  -2.6528  2538.6790\n",
      "184    400         4    0.005       3  50.4555  -3.8252  2531.1247\n",
      "224    400         6    0.005       3  50.4563  -3.6062  2532.8354\n",
      "108    200         6    0.010       3  50.4774  -3.5420  2535.4173\n",
      "44     200         3    0.005       3  50.4844  -2.4838  2542.5011\n",
      "560   1000         5    0.001       3  50.5420  -2.5213  2548.1357\n",
      "500   1000         2    0.001       3  50.5455  -2.7819  2547.1097\n",
      "84     200         5    0.005       3  50.5517  -2.5383  2549.0315\n",
      "204    400         5    0.005       3  50.6206  -3.8723  2547.4466\n",
      "88     200         5    0.010       3  50.6295  -3.8246  2548.7165\n",
      "244    600         1    0.005       3  50.6771  -4.4167  2548.6650\n",
      "164    400         3    0.005       3  50.6798  -3.8597  2553.5450\n",
      "580   1000         6    0.001       3  50.7019  -2.4339  2564.7547\n",
      "125    400         1    0.005       5  50.7092  -4.3595  2552.4180\n",
      "104    200         6    0.005       3  50.7353  -2.3514  2568.5371\n",
      "481   1000         1    0.001       5  50.7788  -2.9814  2569.5987\n",
      "126    400         1    0.005       7  50.8033  -4.2826  2562.6311\n",
      "5      200         1    0.005       5  50.8891  -3.1122  2580.0185\n",
      "25     200         2    0.005       5  50.9535  -2.8514  2588.1296\n",
      "482   1000         1    0.001       7  50.9798  -3.3617  2587.6382\n",
      "..     ...       ...      ...     ...      ...      ...        ...\n",
      "556   1000         4    0.100       3  58.2362  -7.2904  3338.3036\n",
      "42     200         3    0.001       7  58.2386  -1.3682  3389.8614\n",
      "40     200         3    0.001       3  58.2607  -1.1467  3392.9966\n",
      "101    200         6    0.001       5  58.2632  -1.1563  3393.2612\n",
      "476    800         6    0.100       3  58.2696  -6.2112  3356.7618\n",
      "22     200         2    0.001       7  58.2698  -1.3666  3393.5063\n",
      "41     200         3    0.001       5  58.2979  -1.1773  3397.2643\n",
      "43     200         3    0.001       9  58.3121  -1.4344  3398.2455\n",
      "63     200         4    0.001       9  58.3196  -1.3622  3399.3145\n",
      "596   1000         6    0.100       3  58.3332  -6.2200  3364.0684\n",
      "81     200         5    0.001       5  58.3546  -1.0606  3404.1287\n",
      "3      200         1    0.001       9  58.3603  -1.3500  3404.1061\n",
      "83     200         5    0.001       9  58.3624  -1.3851  3404.2519\n",
      "1      200         1    0.001       5  58.3691  -1.2242  3405.4544\n",
      "62     200         4    0.001       7  58.3797  -1.3620  3406.3390\n",
      "20     200         2    0.001       3  58.4327  -1.1249  3413.1155\n",
      "96     200         5    0.100       3  58.5391  -5.8870  3392.1651\n",
      "102    200         6    0.001       7  58.5533  -1.1488  3427.1682\n",
      "82     200         5    0.001       7  58.5626  -1.1590  3428.2395\n",
      "352    600         6    0.050       3  58.6544  -6.2118  3401.7511\n",
      "276    600         2    0.100       3  58.7982  -6.7779  3411.2910\n",
      "0      200         1    0.001       3  58.9031  -1.0575  3468.4605\n",
      "472    800         6    0.050       3  59.0135  -6.1638  3444.6053\n",
      "396    800         2    0.100       3  59.1536  -6.9453  3450.9111\n",
      "516   1000         2    0.100       3  59.2034  -6.9450  3456.8034\n",
      "592   1000         6    0.050       3  59.3852  -6.2922  3487.0132\n",
      "216    400         5    0.100       3  59.7075  -6.1576  3527.0671\n",
      "336    600         5    0.100       3  59.9119  -6.2242  3550.6887\n",
      "456    800         5    0.100       3  60.2138  -6.3696  3585.1251\n",
      "576   1000         5    0.100       3  60.3341  -6.4600  3598.4756\n",
      "\n",
      "[600 rows x 7 columns]\n",
      "The best model is:\n",
      " n_est             200\n",
      "max_feat            2\n",
      "lr_rate          0.01\n",
      "max_dp              3\n",
      "rmse          49.8824\n",
      "bias          -3.8314\n",
      "var         2473.5776\n",
      "Name: 28, dtype: object\n"
     ]
    }
   ],
   "source": [
    "table_error_sort = table_error.sort_values(by=['rmse'])\n",
    "print(table_error_sort)\n",
    "print(\"The best model is:\\n\", table_error_sort.iloc[0])"
   ]
  },
  {
   "cell_type": "code",
   "execution_count": 23,
   "metadata": {},
   "outputs": [],
   "source": [
    "#gb_best = GradientBoostingRegressor(n_estimators=table_error_sort.n_est[0], \n",
    "#                                    max_features=table_error_sort.max_feat[0], \n",
    "#                                    learning_rate=table_error_sort.lr_rate[0],\n",
    "#                                    max_depth=table_error_sort.max_dp[0],\n",
    "#                                    random_state=1234)\n",
    "\n",
    "gb_best = GradientBoostingRegressor(n_estimators=200, \n",
    "                                    max_features=2, \n",
    "                                    learning_rate=0.01,\n",
    "                                    max_depth=3,\n",
    "                                    random_state=1234)\n",
    "gb_best.fit(X_train, y_train)\n",
    "gb_best.pred = gb_best.predict(X_test)"
   ]
  },
  {
   "cell_type": "code",
   "execution_count": 24,
   "metadata": {},
   "outputs": [
    {
     "name": "stdout",
     "output_type": "stream",
     "text": [
      "rmse, bias, variance\n",
      " 49.8824 -3.8314 2473.5776\n"
     ]
    }
   ],
   "source": [
    "gb_best_rmse = \"{:.4f}\".format(np.sqrt(metrics.mean_squared_error(y_test, gb_best.pred)))\n",
    "gb_best_bias = \"{:.4f}\".format(np.mean(y_test - gb_best.pred))\n",
    "gb_best_var  = \"{:.4f}\".format(np.var(y_test - gb_best.pred))\n",
    "print('rmse, bias, variance\\n', gb_best_rmse, gb_best_bias, gb_best_var)"
   ]
  },
  {
   "cell_type": "code",
   "execution_count": 34,
   "metadata": {},
   "outputs": [
    {
     "data": {
      "image/png": "[encoded data removed]",
      "text/plain": [
       "<Figure size 432x288 with 1 Axes>"
      ]
     },
     "metadata": {
      "needs_background": "light"
     },
     "output_type": "display_data"
    }
   ],
   "source": [
    "plt.scatter(y_test, gb_best.pred, s=60, edgecolor='black', c='red')\n",
    "plt.plot(y_test, y_test, c='blue', label='y=x')\n",
    "plt.title(\"gradient boosting model\")\n",
    "plt.xlabel(\"observed aboveground biomass\")\n",
    "plt.ylabel(\"predicted aboveground biomass\")\n",
    "plt.legend()\n",
    "plt.show()"
   ]
  },
  {
   "cell_type": "markdown",
   "metadata": {},
   "source": [
    "### Best model"
   ]
  },
  {
   "cell_type": "code",
   "execution_count": 6,
   "metadata": {},
   "outputs": [
    {
     "name": "stdout",
     "output_type": "stream",
     "text": [
      "╒════════════════════════════════════╤═════════════════════╤═════════════════╕\n",
      "│ Algorithm                          │   Gradient boosting │ Random forest   │\n",
      "╞════════════════════════════════════╪═════════════════════╪═════════════════╡\n",
      "│ RMSE                               │             49.8824 │ 51.0318         │\n",
      "├────────────────────────────────────┼─────────────────────┼─────────────────┤\n",
      "│ Variance                           │           2473.58   │ 2572.7441       │\n",
      "├────────────────────────────────────┼─────────────────────┼─────────────────┤\n",
      "│ Bias                               │             -3.8314 │ -5.6126         │\n",
      "├────────────────────────────────────┼─────────────────────┼─────────────────┤\n",
      "│ No. estimator                      │            200      │ 200             │\n",
      "├────────────────────────────────────┼─────────────────────┼─────────────────┤\n",
      "│ Learning rate                      │              0.01   │ N/A             │\n",
      "├────────────────────────────────────┼─────────────────────┼─────────────────┤\n",
      "│ Tree depth                         │              3      │ N/A             │\n",
      "├────────────────────────────────────┼─────────────────────┼─────────────────┤\n",
      "│ Max No. of predictors at each node │              2      │ 1               │\n",
      "╘════════════════════════════════════╧═════════════════════╧═════════════════╛\n"
     ]
    }
   ],
   "source": [
    "table_error = [['Algorithm', 'Gradient boosting', 'Random forest'],  ## headers\n",
    "               ['RMSE', '49.8824', '51.0318'], \n",
    "               ['Variance', '2473.5776', '2572.7441'], \n",
    "               ['Bias', '-3.8314', '-5.6126'],\n",
    "               ['No. estimator', '200', '200'],\n",
    "               ['Learning rate', '0.01', 'N/A'],\n",
    "               ['Tree depth', '3', 'N/A'],\n",
    "               ['Max No. of predictors at each node', '2', '1']]\n",
    "##\n",
    "## Then, use the tabulate function\n",
    "print(tabulate(table_error, headers='firstrow', tablefmt='fancy_grid'))"
   ]
  },
  {
   "cell_type": "code",
   "execution_count": null,
   "metadata": {},
   "outputs": [],
   "source": []
  }
 ],
 "metadata": {
  "kernelspec": {
   "display_name": "Python 3 (ipykernel)",
   "language": "python",
   "name": "python3"
  },
  "language_info": {
   "codemirror_mode": {
    "name": "ipython",
    "version": 3
   },
   "file_extension": ".py",
   "mimetype": "text/x-python",
   "name": "python",
   "nbconvert_exporter": "python",
   "pygments_lexer": "ipython3",
   "version": "3.9.12"
  }
 },
 "nbformat": 4,
 "nbformat_minor": 4
}
