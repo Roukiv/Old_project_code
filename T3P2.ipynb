{
 "cells": [
  {
   "cell_type": "markdown",
   "metadata": {},
   "source": [
    "### Reading the data\n",
    "Throughout this practical session we will use several Python libraries: pandas, numpy, mathplotlib, sklearn; [sklearn](https://scikit-learn.org/stable) offers numerous tools for predictive data analysis, hosting implementations of the most important machine learning tools we'll be using during this topic."
   ]
  },
  {
   "cell_type": "code",
   "execution_count": 1,
   "metadata": {},
   "outputs": [],
   "source": [
    "import pandas as pd\n",
    "\n",
    "import numpy as np\n",
    "\n",
    "from sklearn.model_selection import train_test_split\n",
    "from sklearn.ensemble import RandomForestRegressor\n",
    "from sklearn.ensemble import GradientBoostingRegressor\n",
    "from sklearn import metrics\n",
    "from sklearn.inspection import permutation_importance\n",
    "\n",
    "import matplotlib.pyplot as plt"
   ]
  },
  {
   "cell_type": "markdown",
   "metadata": {},
   "source": [
    "We'll first read the dataset containing the observations from a csv file on a shared google drive. Those not being able to access google, please download the offline file in Blackboard (asf_amazon.csv), save it to your computer, and change the path in the code below to have it read into the pandas dataframe."
   ]
  },
  {
   "cell_type": "code",
   "execution_count": 2,
   "metadata": {},
   "outputs": [],
   "source": [
    "asf_amazon = pd.read_csv(\"https://drive.google.com/uc?export=download&id=1gYcYOTEHr7d-zh9q-H2i-Gy0leuQUMf3\")"
   ]
  },
  {
   "cell_type": "markdown",
   "metadata": {},
   "source": [
    "### Response, predictors and partitioning the dataset into training and testing subsets\n",
    "In this exercise we will test several machine learning algorithms to estimate the age of secondary forests as a function of several measurements:\n",
    "\n",
    "*ASF* = f(*HH*, *HV*, *b1*, *b2*, *b3*, *b4*, *b5*, *b7*)\n",
    "\n",
    "We will use a 75:25 random partition of the dataset to obtain the training and testing subsets, respectively. The training subset will be used for model fitting, whereas the testing subset will be kept aside and only used when assessing the predictive capability of the models. <span style=\"color:red\">Please note, we need to set a random number so that we can reproduce the results</span>."
   ]
  },
  {
   "cell_type": "code",
   "execution_count": 3,
   "metadata": {},
   "outputs": [],
   "source": [
    "y = asf_amazon.ASF ## set the response\n",
    "X = asf_amazon[['HH','HV','b1','b2','b3','b4','b5','b7']] ## set the predictors\n",
    "## Split into train and test subsets\n",
    "X_train, X_test, y_train, y_test = train_test_split(X, y, test_size=0.25, random_state=1234)"
   ]
  },
  {
   "cell_type": "markdown",
   "metadata": {},
   "source": [
    "### Fitting random forests models\n",
    "The scikit-learn library has a specific function to fit random forests models to regression problems. The function is called [RandomForestRegressor](https://scikit-learn.org/stable/modules/generated/sklearn.ensemble.RandomForestRegressor.html#sklearn.ensemble.RandomForestRegressor), and in the link you can learn about the parameters controlling this function.\n",
    "\n",
    "We'll use a set of loops to test combinations: \n",
    "* estimators: 100, 300, 500, 700, 900, 1100\n",
    "* maximum predictors per split: 2, 3, 4, 5, 6, 7"
   ]
  },
  {
   "cell_type": "code",
   "execution_count": 4,
   "metadata": {},
   "outputs": [],
   "source": [
    "## Initialise the variables (lists) we want to compute for each fitted model\n",
    "n_est,max_feat,rmse,bias,var = [],[],[],[],[]"
   ]
  },
  {
   "cell_type": "code",
   "execution_count": 5,
   "metadata": {},
   "outputs": [
    {
     "name": "stdout",
     "output_type": "stream",
     "text": [
      "Wall time: 1min 33s\n"
     ]
    }
   ],
   "source": [
    "%%time\n",
    "## For loop to test all combinations of n_est and max_feat\n",
    "for i in [100,300,500,700,900,1100]:  ## list with the number of estimators to be tested\n",
    "    for j in [2,3,4,5,6,7]:  ## list with the number of predictors to be tested when splitting a node\n",
    "        rf = RandomForestRegressor(n_estimators=i, max_features=j, random_state=1234)\n",
    "        rf.fit(X_train, y_train)\n",
    "        rf.pred = rf.predict(X_test)\n",
    "        n_est.append(i)\n",
    "        max_feat.append(j)\n",
    "        rmse.append(\"{:.4f}\".format(np.sqrt(metrics.mean_squared_error(y_test, rf.pred))))\n",
    "        bias.append(\"{:.4f}\".format(np.mean(y_test - rf.pred)))\n",
    "        var.append(\"{:.4f}\".format(np.var(y_test - rf.pred)))"
   ]
  },
  {
   "cell_type": "code",
   "execution_count": 6,
   "metadata": {},
   "outputs": [
    {
     "name": "stdout",
     "output_type": "stream",
     "text": [
      "    n_est  max_feat    rmse    bias      var\n",
      "0     100         2  4.7416  0.2848  22.4021\n",
      "1     100         3  4.7049  0.3425  22.0187\n",
      "2     100         4  4.6309  0.3259  21.3391\n",
      "3     100         5  4.6310  0.2624  21.3769\n",
      "4     100         6  4.6805  0.3195  21.8047\n",
      "5     100         7  4.6006  0.2866  21.0830\n",
      "6     300         2  4.7119  0.2767  22.1257\n",
      "7     300         3  4.6746  0.3116  21.7550\n",
      "8     300         4  4.6529  0.3142  21.5507\n",
      "9     300         5  4.5988  0.2877  21.0659\n",
      "10    300         6  4.6540  0.3452  21.5409\n",
      "11    300         7  4.5952  0.3337  21.0043\n",
      "12    500         2  4.7123  0.2836  22.1251\n",
      "13    500         3  4.6706  0.3024  21.7234\n",
      "14    500         4  4.6346  0.3030  21.3874\n",
      "15    500         5  4.5967  0.2971  21.0417\n",
      "16    500         6  4.6336  0.3251  21.3642\n",
      "17    500         7  4.6034  0.3232  21.0872\n",
      "18    700         2  4.7168  0.2766  22.1714\n",
      "19    700         3  4.6733  0.3002  21.7499\n",
      "20    700         4  4.6350  0.2959  21.3955\n",
      "21    700         5  4.6043  0.2938  21.1134\n",
      "22    700         6  4.6172  0.3092  21.2226\n",
      "23    700         7  4.6041  0.3110  21.1013\n",
      "24    900         2  4.7166  0.2765  22.1700\n",
      "25    900         3  4.6769  0.2967  21.7852\n",
      "26    900         4  4.6408  0.2985  21.4475\n",
      "27    900         5  4.6158  0.2902  21.2212\n",
      "28    900         6  4.6178  0.3004  21.2338\n",
      "29    900         7  4.6141  0.3146  21.1913\n",
      "30   1100         2  4.7134  0.2766  22.1399\n",
      "31   1100         3  4.6774  0.3003  21.7875\n",
      "32   1100         4  4.6336  0.2992  21.3803\n",
      "33   1100         5  4.6183  0.2922  21.2429\n",
      "34   1100         6  4.6134  0.2992  21.1942\n",
      "35   1100         7  4.6131  0.3153  21.1808\n"
     ]
    }
   ],
   "source": [
    "## Print the results\n",
    "##\n",
    "## First, create a dictionary with the variables and corresponding values\n",
    "dict_error = {'n_est': n_est, 'max_feat': max_feat, 'rmse': rmse, 'bias': bias,'var': var}\n",
    "##\n",
    "## Create a pandas dataframe\n",
    "table_error = pd.DataFrame(data = dict_error)\n",
    "print(table_error)"
   ]
  },
  {
   "cell_type": "code",
   "execution_count": 7,
   "metadata": {},
   "outputs": [
    {
     "name": "stdout",
     "output_type": "stream",
     "text": [
      "    n_est  max_feat    rmse    bias      var\n",
      "0     300         7  4.5952  0.3337  21.0043\n",
      "1     500         5  4.5967  0.2971  21.0417\n",
      "2     300         5  4.5988  0.2877  21.0659\n",
      "3     100         7  4.6006  0.2866  21.0830\n",
      "4     500         7  4.6034  0.3232  21.0872\n",
      "5     700         7  4.6041  0.3110  21.1013\n",
      "6     700         5  4.6043  0.2938  21.1134\n",
      "7    1100         7  4.6131  0.3153  21.1808\n",
      "8    1100         6  4.6134  0.2992  21.1942\n",
      "9     900         7  4.6141  0.3146  21.1913\n",
      "10    900         5  4.6158  0.2902  21.2212\n",
      "11    700         6  4.6172  0.3092  21.2226\n",
      "12    900         6  4.6178  0.3004  21.2338\n",
      "13   1100         5  4.6183  0.2922  21.2429\n",
      "14    100         4  4.6309  0.3259  21.3391\n",
      "15    100         5  4.6310  0.2624  21.3769\n",
      "16   1100         4  4.6336  0.2992  21.3803\n",
      "17    500         6  4.6336  0.3251  21.3642\n",
      "18    500         4  4.6346  0.3030  21.3874\n",
      "19    700         4  4.6350  0.2959  21.3955\n",
      "20    900         4  4.6408  0.2985  21.4475\n",
      "21    300         4  4.6529  0.3142  21.5507\n",
      "22    300         6  4.6540  0.3452  21.5409\n",
      "23    500         3  4.6706  0.3024  21.7234\n",
      "24    700         3  4.6733  0.3002  21.7499\n",
      "25    300         3  4.6746  0.3116  21.7550\n",
      "26    900         3  4.6769  0.2967  21.7852\n",
      "27   1100         3  4.6774  0.3003  21.7875\n",
      "28    100         6  4.6805  0.3195  21.8047\n",
      "29    100         3  4.7049  0.3425  22.0187\n",
      "30    300         2  4.7119  0.2767  22.1257\n",
      "31    500         2  4.7123  0.2836  22.1251\n",
      "32   1100         2  4.7134  0.2766  22.1399\n",
      "33    900         2  4.7166  0.2765  22.1700\n",
      "34    700         2  4.7168  0.2766  22.1714\n",
      "35    100         2  4.7416  0.2848  22.4021\n",
      "\n",
      "The best model is:\n",
      " n_est           300\n",
      "max_feat          7\n",
      "rmse         4.5952\n",
      "bias         0.3337\n",
      "var         21.0043\n",
      "Name: 0, dtype: object\n"
     ]
    }
   ],
   "source": [
    "## What's the best model?\n",
    "##\n",
    "## First, sort the values by the 'rmse' column\n",
    "table_error_sort = table_error.sort_values(by=['rmse'], ignore_index=True)\n",
    "print(table_error_sort)\n",
    "##\n",
    "## Choose the best model\n",
    "## Minimum RMSE\n",
    "print(\"\\nThe best model is:\\n\", table_error_sort.iloc[0])"
   ]
  },
  {
   "cell_type": "code",
   "execution_count": 8,
   "metadata": {},
   "outputs": [],
   "source": [
    "## Specify, fit and predict with the best Random Forests model\n",
    "rf_best = RandomForestRegressor(n_estimators=table_error_sort.n_est[0], \n",
    "                                max_features=table_error_sort.max_feat[0], \n",
    "                                random_state=1234)\n",
    "rf_best.fit(X_train, y_train)\n",
    "rf_best.pred = rf_best.predict(X_test)"
   ]
  },
  {
   "cell_type": "code",
   "execution_count": 9,
   "metadata": {},
   "outputs": [
    {
     "name": "stdout",
     "output_type": "stream",
     "text": [
      "rmse, bias, variance\n",
      " 4.5952 0.3337 21.0043\n"
     ]
    }
   ],
   "source": [
    "## Verify the rmse, bias and variance we got above can be replicated\n",
    "rf_best_rmse = \"{:.4f}\".format(np.sqrt(metrics.mean_squared_error(y_test, rf_best.pred)))\n",
    "rf_best_bias = \"{:.4f}\".format(np.mean(y_test - rf_best.pred))\n",
    "rf_best_var  = \"{:.4f}\".format(np.var(y_test - rf_best.pred))\n",
    "print('rmse, bias, variance\\n', rf_best_rmse, rf_best_bias, rf_best_var)"
   ]
  },
  {
   "cell_type": "code",
   "execution_count": 10,
   "metadata": {},
   "outputs": [
    {
     "data": {
      "image/png": "[encoded data removed]",
      "text/plain": [
       "<Figure size 432x288 with 1 Axes>"
      ]
     },
     "metadata": {
      "needs_background": "light"
     },
     "output_type": "display_data"
    }
   ],
   "source": [
    "## Plotting the observed vs predicted age of secondary forests\n",
    "plt.scatter(y_test, rf_best.pred, s=60, edgecolor='black', c='red')\n",
    "plt.plot(y_test, y_test, c='blue', label='y=x')\n",
    "plt.xlim([0, 30])\n",
    "plt.ylim([0, 30])\n",
    "plt.xlabel(\"observed age of secondary forests (years)\")\n",
    "plt.ylabel(\"predicted age of secondary forests (years)\")\n",
    "plt.legend()\n",
    "plt.show()"
   ]
  },
  {
   "cell_type": "code",
   "execution_count": 11,
   "metadata": {},
   "outputs": [
    {
     "data": {
      "image/png": "[encoded data removed]",
      "text/plain": [
       "<Figure size 432x288 with 1 Axes>"
      ]
     },
     "metadata": {
      "needs_background": "light"
     },
     "output_type": "display_data"
    }
   ],
   "source": [
    "## plotting predictor importance\n",
    "rf_best_imp = permutation_importance(rf_best, X_train, y_train, n_repeats=100, random_state=1234)\n",
    "rf_best_sort_imp = rf_best_imp.importances_mean.argsort()\n",
    "\n",
    "fig, ax = plt.subplots()\n",
    "ax.boxplot(rf_best_imp.importances[rf_best_sort_imp].T,\n",
    "           vert=False, labels=X_train.columns[rf_best_sort_imp])\n",
    "plt.xlabel('permutation importance')\n",
    "plt.ylabel('predictors')\n",
    "fig.tight_layout()\n",
    "plt.show()"
   ]
  },
  {
   "cell_type": "markdown",
   "metadata": {},
   "source": [
    "### Fitting gradient boosting models\n",
    "The scikit-learn library has a specific function to fit gradient boosting models to regression problems. The function is called [GradientBoostingRegressor](https://scikit-learn.org/stable/modules/generated/sklearn.ensemble.GradientBoostingRegressor.html#sklearn.ensemble.GradientBoostingRegressor), and in the link you can learn about the parameters controlling this function.\n",
    "\n",
    "We'll use a set of loops to test combinations: \n",
    "* estimators: 100, 500, 900, 1100\n",
    "* maximum predictors per split: 2, 4, 6\n",
    "* learning rate: 0.001, 0.01, 0.1\n",
    "* maximum depth: 1, 5, 9\n"
   ]
  },
  {
   "cell_type": "code",
   "execution_count": 12,
   "metadata": {},
   "outputs": [],
   "source": [
    "## Initialise the variables (lists) we want to compute for each fitted model\n",
    "n_est,max_feat,lr_rate,max_dp,rmse,bias,var = [],[],[],[],[],[],[]"
   ]
  },
  {
   "cell_type": "code",
   "execution_count": 13,
   "metadata": {},
   "outputs": [
    {
     "name": "stdout",
     "output_type": "stream",
     "text": [
      "Wall time: 2min 40s\n"
     ]
    }
   ],
   "source": [
    "%%time\n",
    "## For loop to test all combinations of n_est, max_feat, lr_rate, max_dp\n",
    "for i in [100,500,900,1100]:  ## list with the number of estimators to be tested\n",
    "    for j in [2,4,6]:  ## list with the number of predictors to be tested when splitting a node\n",
    "        for k in [0.001, 0.01, 0.1]: ## list with the learning rates\n",
    "            for l in [1, 5, 9]: ## list of trees maximum depth\n",
    "                gb = GradientBoostingRegressor(n_estimators=i, \n",
    "                                               max_features=j, \n",
    "                                               learning_rate=k,\n",
    "                                               max_depth=l,\n",
    "                                               random_state=1234)\n",
    "                gb.fit(X_train, y_train)\n",
    "                gb.pred = gb.predict(X_test)\n",
    "                n_est.append(i)\n",
    "                max_feat.append(j)\n",
    "                lr_rate.append(k)\n",
    "                max_dp.append(l)\n",
    "                rmse.append(\"{:.4f}\".format(np.sqrt(metrics.mean_squared_error(y_test, gb.pred))))\n",
    "                bias.append(\"{:.4f}\".format(np.mean(y_test - gb.pred)))\n",
    "                var.append(\"{:.4f}\".format(np.var(y_test - gb.pred)))"
   ]
  },
  {
   "cell_type": "code",
   "execution_count": 14,
   "metadata": {},
   "outputs": [
    {
     "name": "stdout",
     "output_type": "stream",
     "text": [
      "     n_est  max_feat  lr_rate  max_dp    rmse    bias      var\n",
      "0      100         2    0.001       1  8.6404  0.4134  74.4859\n",
      "1      100         2    0.001       5  8.3859  0.4083  70.1561\n",
      "2      100         2    0.001       9  8.3212  0.4072  69.0766\n",
      "3      100         2    0.010       1  7.0389  0.3270  49.4389\n",
      "4      100         2    0.010       5  5.7932  0.3111  33.4645\n",
      "..     ...       ...      ...     ...     ...     ...      ...\n",
      "103   1100         6    0.010       5  4.5459  0.2575  20.5987\n",
      "104   1100         6    0.010       9  4.5967  0.2651  21.0593\n",
      "105   1100         6    0.100       1  5.0680  0.2392  25.6279\n",
      "106   1100         6    0.100       5  4.6255  0.3696  21.2583\n",
      "107   1100         6    0.100       9  4.6639  0.3161  21.6522\n",
      "\n",
      "[108 rows x 7 columns]\n"
     ]
    }
   ],
   "source": [
    "## Print the results\n",
    "##\n",
    "## First, create a dictionary with our variables and corresponding values\n",
    "dict_error = {'n_est': n_est, 'max_feat': max_feat, 'lr_rate': lr_rate, 'max_dp': max_dp, 'rmse': rmse, 'bias': bias,'var': var}\n",
    "##\n",
    "## Create a pandas dataframe\n",
    "table_error = pd.DataFrame(data = dict_error)\n",
    "print(table_error)"
   ]
  },
  {
   "cell_type": "code",
   "execution_count": 15,
   "metadata": {},
   "outputs": [
    {
     "name": "stdout",
     "output_type": "stream",
     "text": [
      "     n_est  max_feat  lr_rate  max_dp    rmse    bias      var\n",
      "0     1100         4    0.010       5  4.5078  0.2250  20.2698\n",
      "1      900         4    0.010       5  4.5150  0.2121  20.3400\n",
      "2     1100         4    0.010       9  4.5291  0.2668  20.4417\n",
      "3      900         4    0.010       9  4.5342  0.2663  20.4879\n",
      "4      900         6    0.010       5  4.5450  0.2460  20.5968\n",
      "..     ...       ...      ...     ...     ...     ...      ...\n",
      "103    100         4    0.001       5  8.3498  0.4157  69.5459\n",
      "104    100         2    0.001       5  8.3859  0.4083  70.1561\n",
      "105    100         6    0.001       1  8.5619  0.4154  73.1332\n",
      "106    100         4    0.001       1  8.5699  0.4147  73.2716\n",
      "107    100         2    0.001       1  8.6404  0.4134  74.4859\n",
      "\n",
      "[108 rows x 7 columns]\n",
      "The best model is:\n",
      " n_est          1100\n",
      "max_feat          4\n",
      "lr_rate        0.01\n",
      "max_dp            5\n",
      "rmse         4.5078\n",
      "bias         0.2250\n",
      "var         20.2698\n",
      "Name: 0, dtype: object\n"
     ]
    }
   ],
   "source": [
    "## What's the best model?\n",
    "##\n",
    "## First, sort the values by the 'rmse' column\n",
    "table_error_sort = table_error.sort_values(by=['rmse'], ignore_index=True)\n",
    "print(table_error_sort)\n",
    "##\n",
    "## Choose the best model model\n",
    "## Minimum RMSE\n",
    "print(\"The best model is:\\n\", table_error_sort.iloc[0])"
   ]
  },
  {
   "cell_type": "code",
   "execution_count": 16,
   "metadata": {},
   "outputs": [],
   "source": [
    "## Specify, fit and predict with the best Gradient Boosting model\n",
    "gb_best = GradientBoostingRegressor(n_estimators=table_error_sort.n_est[0], \n",
    "                                    max_features=table_error_sort.max_feat[0], \n",
    "                                    learning_rate=table_error_sort.lr_rate[0],\n",
    "                                    max_depth=table_error_sort.max_dp[0],\n",
    "                                    random_state=1234)\n",
    "gb_best.fit(X_train, y_train)\n",
    "gb_best.pred = gb_best.predict(X_test)"
   ]
  },
  {
   "cell_type": "code",
   "execution_count": 17,
   "metadata": {},
   "outputs": [
    {
     "name": "stdout",
     "output_type": "stream",
     "text": [
      "rmse, bias, variance\n",
      " 4.5078 0.2250 20.2698\n"
     ]
    }
   ],
   "source": [
    "## Verify the rmse, bias and variance we got above can be replicated\n",
    "gb_best_rmse = \"{:.4f}\".format(np.sqrt(metrics.mean_squared_error(y_test, gb_best.pred)))\n",
    "gb_best_bias = \"{:.4f}\".format(np.mean(y_test - gb_best.pred))\n",
    "gb_best_var  = \"{:.4f}\".format(np.var(y_test - gb_best.pred))\n",
    "print('rmse, bias, variance\\n', gb_best_rmse, gb_best_bias, gb_best_var)"
   ]
  },
  {
   "cell_type": "code",
   "execution_count": 18,
   "metadata": {},
   "outputs": [
    {
     "data": {
      "image/png": "[encoded data removed]",
      "text/plain": [
       "<Figure size 432x288 with 1 Axes>"
      ]
     },
     "metadata": {
      "needs_background": "light"
     },
     "output_type": "display_data"
    }
   ],
   "source": [
    "## Plotting the observed vs predicted age of secondary forests\n",
    "plt.scatter(y_test, gb_best.pred, s=60, edgecolor='black', c='red')\n",
    "plt.plot(y_test, y_test, c='blue', label='y=x')\n",
    "plt.xlim([0, 30])\n",
    "plt.ylim([0, 30])\n",
    "plt.xlabel(\"observed age of secondary forests (years)\")\n",
    "plt.ylabel(\"predicted age of secondary forests (years)\")\n",
    "plt.legend()\n",
    "plt.show()"
   ]
  },
  {
   "cell_type": "code",
   "execution_count": 19,
   "metadata": {},
   "outputs": [
    {
     "data": {
      "image/png": "[encoded data removed]",
      "text/plain": [
       "<Figure size 432x288 with 1 Axes>"
      ]
     },
     "metadata": {
      "needs_background": "light"
     },
     "output_type": "display_data"
    }
   ],
   "source": [
    "## Plotting predictor importance\n",
    "gb_best_imp = permutation_importance(gb_best, X_train, y_train, n_repeats=100, random_state=1234)\n",
    "gb_best_sort_imp = gb_best_imp.importances_mean.argsort()\n",
    "\n",
    "fig, ax = plt.subplots()\n",
    "ax.boxplot(gb_best_imp.importances[gb_best_sort_imp].T,\n",
    "           vert=False, labels=X_train.columns[gb_best_sort_imp])\n",
    "plt.xlabel('permutation importance')\n",
    "plt.ylabel('predictors')\n",
    "fig.tight_layout()\n",
    "plt.show()"
   ]
  },
  {
   "cell_type": "markdown",
   "metadata": {},
   "source": [
    "### If we have time ... methods to optimise parameter tuning\n",
    "There are some methods to optimise parameter tuning:\n",
    "* *Exhaustive Grid Search*: brute force approach that scans the whole grid of parameters combinations in some order, computes the cross-validation loss for each one and finds the optimal combination in this manner.\n",
    "* *Bayesian Hyper-Parameter Tuning*: a probabilistic model based approach for finding the minimum of any function that returns a real-value metric. This function may be as simple as f(x) = x², or it can be as complex as the validation error of a deep neural network with respect to hundreds of model architecture and hyperparameter choices. Recent results suggest Bayesian hyperparameter optimization of machine learning models is more efficient than manual, random, or grid search with i) better overall performance on the test set, and ii) less time required for optimization."
   ]
  },
  {
   "cell_type": "code",
   "execution_count": 20,
   "metadata": {},
   "outputs": [],
   "source": [
    "## First, we'll need to import several libraries\n",
    "from sklearn.model_selection import cross_val_score\n",
    "from sklearn.metrics import mean_squared_error\n",
    "from skopt import gp_minimize\n",
    "from skopt.space import Real, Integer\n",
    "from skopt.utils import use_named_args"
   ]
  },
  {
   "cell_type": "code",
   "execution_count": 21,
   "metadata": {},
   "outputs": [],
   "source": [
    "## Gradient boosting hyper-parameter space\n",
    "n_pred = X_train.shape[1] ## number of predictors\n",
    "space  = [Integer(100, 1100, name='n_estimators'),\n",
    "          Integer(1, 5, name='max_depth'),\n",
    "          Real(10**-5, 10**0, \"log-uniform\", name='learning_rate'),\n",
    "          Integer(1, n_pred, name='max_features')]"
   ]
  },
  {
   "cell_type": "code",
   "execution_count": 22,
   "metadata": {},
   "outputs": [],
   "source": [
    "@use_named_args(space)\n",
    "def objective(**params):\n",
    "    reg = GradientBoostingRegressor(random_state=1234)\n",
    "    reg.set_params(**params)\n",
    "    return -np.mean(cross_val_score(reg, \n",
    "                                    X_train, \n",
    "                                    y_train, \n",
    "                                    cv=10, \n",
    "                                    n_jobs=-1,\n",
    "                                    scoring='neg_mean_squared_error'))"
   ]
  },
  {
   "cell_type": "code",
   "execution_count": 23,
   "metadata": {},
   "outputs": [
    {
     "name": "stdout",
     "output_type": "stream",
     "text": [
      "Wall time: 3min 53s\n"
     ]
    }
   ],
   "source": [
    "%%time\n",
    "res_gp = gp_minimize(objective, space, acq_func =\"EI\", n_calls=100, random_state=1234)"
   ]
  },
  {
   "cell_type": "code",
   "execution_count": 24,
   "metadata": {},
   "outputs": [
    {
     "name": "stdout",
     "output_type": "stream",
     "text": [
      "Best parameters:\n",
      "- n_estimators=1100\n",
      "- max_depth=4\n",
      "- learning_rate=0.009820\n",
      "- max_features=4\n"
     ]
    }
   ],
   "source": [
    "print(\"\"\"Best parameters:\n",
    "- n_estimators=%d\n",
    "- max_depth=%d\n",
    "- learning_rate=%.6f\n",
    "- max_features=%d\"\"\" % (res_gp.x[0], \n",
    "                        res_gp.x[1],\n",
    "                        res_gp.x[2], \n",
    "                        res_gp.x[3]))"
   ]
  },
  {
   "cell_type": "code",
   "execution_count": 25,
   "metadata": {},
   "outputs": [],
   "source": [
    "## Specify, fit and predict with the best Gradient Boosting model with Bayesian optimisation\n",
    "gb_bayes = GradientBoostingRegressor(n_estimators=res_gp.x[0], \n",
    "                                     max_depth=res_gp.x[1],\n",
    "                                     learning_rate=res_gp.x[2],\n",
    "                                     max_features=res_gp.x[3], \n",
    "                                     random_state=1234)\n",
    "gb_bayes.fit(X_train, y_train)\n",
    "gb_bayes.pred = gb_bayes.predict(X_test)"
   ]
  },
  {
   "cell_type": "code",
   "execution_count": 27,
   "metadata": {},
   "outputs": [
    {
     "name": "stdout",
     "output_type": "stream",
     "text": [
      "rmse, bias, variance\n",
      " 4.6322 0.2330 21.4029\n"
     ]
    }
   ],
   "source": [
    "## Compute the rmse, bias and variance from the model selected using Bayesian optimisation\n",
    "gb_bayes_rmse = \"{:.4f}\".format(np.sqrt(metrics.mean_squared_error(y_test, gb_bayes.pred)))\n",
    "gb_bayes_bias = \"{:.4f}\".format(np.mean(y_test - gb_bayes.pred))\n",
    "gb_bayes_var  = \"{:.4f}\".format(np.var(y_test - gb_bayes.pred))\n",
    "print('rmse, bias, variance\\n', gb_bayes_rmse, gb_bayes_bias, gb_bayes_var)"
   ]
  }
 ],
 "metadata": {
  "kernelspec": {
   "display_name": "Python 3",
   "language": "python",
   "name": "python3"
  },
  "language_info": {
   "codemirror_mode": {
    "name": "ipython",
    "version": 3
   },
   "file_extension": ".py",
   "mimetype": "text/x-python",
   "name": "python",
   "nbconvert_exporter": "python",
   "pygments_lexer": "ipython3",
   "version": "3.7.3"
  }
 },
 "nbformat": 4,
 "nbformat_minor": 4
}
